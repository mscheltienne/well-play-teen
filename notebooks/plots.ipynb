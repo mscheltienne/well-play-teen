{
 "cells": [
  {
   "cell_type": "markdown",
   "metadata": {},
   "source": [
    "# Plotting the game-time dataset\n",
    "\n",
    "This notebook creates the same plots as the entry-point ``wp-gametime-plot`` but with\n",
    "additional customization."
   ]
  },
  {
   "cell_type": "code",
   "execution_count": null,
   "metadata": {
    "vscode": {
     "languageId": "plaintext"
    }
   },
   "outputs": [],
   "source": [
    "import pandas as pd\n",
    "from matplotlib import pyplot as plt\n",
    "\n",
    "from wp.utils._checks import ensure_path\n",
    "from wp.viz import plot_barplot_total_gametime, plot_heatmap, plot_lineplot\n",
    "\n",
    "%matplotlib qt"
   ]
  },
  {
   "cell_type": "markdown",
   "metadata": {},
   "source": [
    "## Load the dataset\n",
    "\n",
    "We start by loading the dataset in a pandas DataFrame. Provide the path to the dataset.\n",
    "For example:\n",
    "\n",
    "```python\n",
    "fname = \"/home/scheltie/wp/gametime.csv\"\n",
    "```"
   ]
  },
  {
   "cell_type": "code",
   "execution_count": null,
   "metadata": {
    "vscode": {
     "languageId": "plaintext"
    }
   },
   "outputs": [],
   "source": [
    "fname: str = \"\"  # path to the dataset\n",
    "\n",
    "fname = ensure_path(fname, must_exist=True)\n",
    "df = pd.read_csv(fname, index_col=0, dtype={\"steam_id\": str})"
   ]
  },
  {
   "cell_type": "markdown",
   "metadata": {},
   "source": [
    "## Steam IDs to select\n",
    "\n",
    "Provide either a list of steam IDs (as string) or a file to load the steam IDs from.\n",
    "For example:\n",
    "\n",
    "```python\n",
    "steam_ids = [\"76561199999999999\", \"76561198329580271\"]\n",
    "steam_ids = \"/home/scheltie/wp/steam_ids_ecorescue.txt\"\n",
    "```\n",
    "\n",
    "``None`` will select all steam IDs from the dataset."
   ]
  },
  {
   "cell_type": "code",
   "execution_count": null,
   "metadata": {
    "vscode": {
     "languageId": "plaintext"
    }
   },
   "outputs": [],
   "source": [
    "steam_ids: str | list[str] | tuple[str, ...] | None = None\n",
    "\n",
    "if not isinstance(steam_ids, (list, tuple, None)):\n",
    "    fname = ensure_path(steam_ids, must_exist=True)\n",
    "    with open(fname) as fid:\n",
    "        steam_ids = [elt.strip() for elt in fid.readlines() if len(elt.strip()) != 0]"
   ]
  },
  {
   "cell_type": "markdown",
   "metadata": {},
   "source": [
    "## Figure size\n",
    "\n",
    "Next, we pre-create a figure with the desired size."
   ]
  },
  {
   "cell_type": "code",
   "execution_count": null,
   "metadata": {
    "vscode": {
     "languageId": "plaintext"
    }
   },
   "outputs": [],
   "source": [
    "f, ax = plt.subplots(1, 1, figsize=(10, 10), layout=\"constrained\")"
   ]
  },
  {
   "cell_type": "markdown",
   "metadata": {},
   "source": [
    "## Plot\n",
    "\n",
    "Finally, we call one of the plot function on the created ``Axes``. Replace\n",
    "``plot_barplot_total_gametime`` with a different plotting function if needed."
   ]
  },
  {
   "cell_type": "code",
   "execution_count": null,
   "metadata": {
    "vscode": {
     "languageId": "plaintext"
    }
   },
   "outputs": [],
   "source": [
    "plot_barplot_total_gametime(df, steam_ids, ax)\n",
    "plt.show()"
   ]
  },
  {
   "cell_type": "markdown",
   "metadata": {},
   "source": [
    "## Save the image\n",
    "\n",
    "Finally, we can save the created image. Provide the path where to save the figure. Note\n",
    "that the extension determines the output format, e.g. ``.png`` or ``.svg``. For example:\n",
    "\n",
    "```python\n",
    "out = \"/home/scheltie/wp/plots/plot.png\"\n",
    "```\n",
    "\n",
    "The keyword ``transparent`` sets the background to transparent if set to ``True``."
   ]
  },
  {
   "cell_type": "code",
   "execution_count": null,
   "metadata": {
    "vscode": {
     "languageId": "plaintext"
    }
   },
   "outputs": [],
   "source": [
    "out: str = \"\"\n",
    "transparent: bool = True\n",
    "\n",
    "out = ensure_path(out, must_exist=False)\n",
    "out.parent.mkdir(parents=True, exist_ok=True)\n",
    "f.savefig(out, transparent=transparent)"
   ]
  }
 ],
 "metadata": {
  "language_info": {
   "name": "python"
  }
 },
 "nbformat": 4,
 "nbformat_minor": 2
}
