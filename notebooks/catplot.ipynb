{
 "cells": [
  {
   "cell_type": "markdown",
   "metadata": {},
   "source": [
    "# Plotting catplot/barplot\n",
    "\n",
    "This notebooks rapidly plots the total gametime per participant in function of time, per\n",
    "game."
   ]
  },
  {
   "cell_type": "code",
   "execution_count": null,
   "metadata": {},
   "outputs": [],
   "source": [
    "import pandas as pd\n",
    "import seaborn as sns\n",
    "from matplotlib import pyplot as plt\n",
    "\n",
    "from wp.gametime import DF_DTYPES\n",
    "from wp.utils.dataframe import prepare_dataframe, select_datetimes, select_steam_ids\n",
    "from wp.utils.viz import make_plot_prettier\n",
    "\n",
    "%matplotlib qt"
   ]
  },
  {
   "cell_type": "markdown",
   "metadata": {},
   "source": [
    "## Parameters"
   ]
  },
  {
   "cell_type": "code",
   "execution_count": null,
   "metadata": {},
   "outputs": [],
   "source": [
    "# path to the .csv dataset file\n",
    "fname: str = \"\"\n",
    "\n",
    "# mapping of steam IDs to usernames\n",
    "mapping: dict[str, str] = dict()\n",
    "\n",
    "# list of steam IDs to include\n",
    "steam_ids: list[str] = []\n",
    "\n",
    "# datetime range and frequency to include\n",
    "start: str = \"2024-04-12 11:00\"  # format: 'YYYY-MM-DD HH:MM'\n",
    "end: str = \"2024-04-12 17:00\"  # format: 'YYYY-MM-DD HH:MM'\n",
    "freq: str = \"2h\"  # format: 'n[h/D/W]', e.g. '1D' for 1 day, '1W' for 1 week"
   ]
  },
  {
   "cell_type": "markdown",
   "metadata": {},
   "source": [
    "## Load dataset, select and plot"
   ]
  },
  {
   "cell_type": "code",
   "execution_count": null,
   "metadata": {},
   "outputs": [],
   "source": [
    "df = pd.read_csv(fname, index_col=0, dtype=DF_DTYPES, parse_dates=[\"acq_time\"])\n",
    "\n",
    "df = prepare_dataframe(df, mapping)\n",
    "df = select_steam_ids(df, steam_ids=steam_ids)\n",
    "df = select_datetimes(df, start=start, end=end)\n",
    "df = select_datetimes(df, freq=freq)\n",
    "\n",
    "grid = sns.catplot(\n",
    "    df,\n",
    "    kind=\"bar\",\n",
    "    x=\"acq_time\",\n",
    "    y=\"game_time\",\n",
    "    col=\"game_id\",\n",
    "    hue=\"steam_id\",\n",
    "    errorbar=None,\n",
    ")\n",
    "make_plot_prettier(grid)\n",
    "plt.show()"
   ]
  },
  {
   "cell_type": "markdown",
   "metadata": {},
   "source": [
    "## Save plot"
   ]
  },
  {
   "cell_type": "code",
   "execution_count": null,
   "metadata": {},
   "outputs": [],
   "source": [
    "# full path where the figure is saved, including extension '.svg', '.png', ..\n",
    "out: str = \"\"\n",
    "plt.savefig(out, transparent=True)"
   ]
  }
 ],
 "metadata": {
  "kernelspec": {
   "display_name": ".venv",
   "language": "python",
   "name": "python3"
  },
  "language_info": {
   "codemirror_mode": {
    "name": "ipython",
    "version": 3
   },
   "file_extension": ".py",
   "mimetype": "text/x-python",
   "name": "python",
   "nbconvert_exporter": "python",
   "pygments_lexer": "ipython3",
   "version": "3.10.11"
  }
 },
 "nbformat": 4,
 "nbformat_minor": 2
}
