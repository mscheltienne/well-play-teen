{
 "cells": [
  {
   "cell_type": "markdown",
   "metadata": {},
   "source": [
    "# Plotting barplot\n",
    "\n",
    "This notebooks rapidly plots the total gametime per participant in function of time, \n",
    "with one bar per day since inclusion date."
   ]
  },
  {
   "cell_type": "code",
   "execution_count": null,
   "metadata": {},
   "outputs": [],
   "source": [
    "import pandas as pd\n",
    "from matplotlib import pyplot as plt\n",
    "\n",
    "from wp.gametime import DF_DTYPES\n",
    "from wp.gametime.selection import prepare_dataframe\n",
    "from wp.gametime.viz import plot_gametime_barplot\n",
    "\n",
    "%matplotlib qt"
   ]
  },
  {
   "cell_type": "markdown",
   "metadata": {},
   "source": [
    "## Parameters"
   ]
  },
  {
   "cell_type": "code",
   "execution_count": null,
   "metadata": {},
   "outputs": [],
   "source": [
    "# path to the .csv dataset file\n",
    "fname: str = \"\"\n",
    "\n",
    "# mapping of steam IDs to usernames\n",
    "mapping: dict[str, str] = dict()\n",
    "\n",
    "# list of steam IDs to include\n",
    "steam_ids: list[str] = []\n",
    "\n",
    "# start date per steam ID, e.g. {\"76561198000000000\": \"2021-01-01\"}\n",
    "start_dates: dict[str, str] = dict()  # format: 'YYYY-MM-DD'"
   ]
  },
  {
   "cell_type": "markdown",
   "metadata": {},
   "source": [
    "## Load dataset, select and plot"
   ]
  },
  {
   "cell_type": "code",
   "execution_count": null,
   "metadata": {},
   "outputs": [],
   "source": [
    "df = pd.read_csv(fname, index_col=0, dtype=DF_DTYPES, parse_dates=[\"acq_time\"])\n",
    "df = prepare_dataframe(df, mapping)\n",
    "plot_gametime_barplot(df, steam_ids, start_dates)\n",
    "plt.show()"
   ]
  },
  {
   "cell_type": "markdown",
   "metadata": {},
   "source": [
    "## Save plot"
   ]
  },
  {
   "cell_type": "code",
   "execution_count": null,
   "metadata": {},
   "outputs": [],
   "source": [
    "# full path where the figure is saved, including extension '.svg', '.png', ..\n",
    "out: str = \"\"\n",
    "plt.savefig(out, transparent=True)"
   ]
  }
 ],
 "metadata": {
  "kernelspec": {
   "display_name": ".venv",
   "language": "python",
   "name": "python3"
  },
  "language_info": {
   "codemirror_mode": {
    "name": "ipython",
    "version": 3
   },
   "file_extension": ".py",
   "mimetype": "text/x-python",
   "name": "python",
   "nbconvert_exporter": "python",
   "pygments_lexer": "ipython3",
   "version": "3.10.11"
  }
 },
 "nbformat": 4,
 "nbformat_minor": 2
}
