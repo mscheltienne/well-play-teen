{
 "cells": [
  {
   "cell_type": "markdown",
   "metadata": {},
   "source": [
    "# Select based on gametimes\n",
    "\n",
    "This notebooks shows how to find which IDs have played more or less than an amount per\n",
    "week."
   ]
  },
  {
   "cell_type": "code",
   "execution_count": 1,
   "metadata": {},
   "outputs": [],
   "source": [
    "import pandas as pd\n",
    "\n",
    "from wp.gametime import DF_DTYPES\n",
    "from wp.gametime.selection import prepare_dataframe, select_gametimes"
   ]
  },
  {
   "cell_type": "markdown",
   "metadata": {},
   "source": [
    "## Parameters"
   ]
  },
  {
   "cell_type": "code",
   "execution_count": null,
   "metadata": {},
   "outputs": [],
   "source": [
    "# path to the .csv dataset file\n",
    "fname: str = \"\"\n",
    "\n",
    "# mapping of steam IDs to usernames\n",
    "mapping: dict[str, str] = dict()\n",
    "\n",
    "# start date per steam ID, e.g. {\"76561198000000000\": \"2021-01-01\"}\n",
    "start_dates: dict[str, str] = dict()  # format: 'YYYY-MM-DD'"
   ]
  },
  {
   "cell_type": "markdown",
   "metadata": {},
   "source": [
    "## Load dataset and select"
   ]
  },
  {
   "cell_type": "code",
   "execution_count": null,
   "metadata": {},
   "outputs": [],
   "source": [
    "df = pd.read_csv(fname, index_col=0, dtype=DF_DTYPES, parse_dates=[\"acq_time\"])\n",
    "df = prepare_dataframe(df, mapping)"
   ]
  },
  {
   "cell_type": "markdown",
   "metadata": {},
   "source": [
    "Let's select steam IDs which played less than 120 minutes per week during at least one\n",
    "week."
   ]
  },
  {
   "cell_type": "code",
   "execution_count": null,
   "metadata": {},
   "outputs": [],
   "source": [
    "df = pd.read_csv(fname, index_col=0, dtype=DF_DTYPES, parse_dates=[\"acq_time\"])\n",
    "df = prepare_dataframe(df, mapping)\n",
    "steam_ids = select_gametimes(df, start_dates, rule=\"<\", amount=120, all_weeks=False)"
   ]
  },
  {
   "cell_type": "markdown",
   "metadata": {},
   "source": [
    "Let's select steam IDs which played less than 120 minutes per week during all weeks."
   ]
  },
  {
   "cell_type": "code",
   "execution_count": null,
   "metadata": {
    "vscode": {
     "languageId": "plaintext"
    }
   },
   "outputs": [],
   "source": [
    "steam_ids = select_gametimes(df, start_dates, rule=\"<\", amount=120, all_weeks=True)"
   ]
  },
  {
   "cell_type": "markdown",
   "metadata": {},
   "source": [
    "Let's select steam IDs which played more than 6 hours (360 minutes) per week at least \n",
    "one week."
   ]
  },
  {
   "cell_type": "code",
   "execution_count": null,
   "metadata": {
    "vscode": {
     "languageId": "plaintext"
    }
   },
   "outputs": [],
   "source": [
    "steam_ids = select_gametimes(df, start_dates, rule=\">=\", amount=360, all_weeks=False)"
   ]
  },
  {
   "cell_type": "markdown",
   "metadata": {},
   "source": [
    "Note that this selection only consider completed weeks, from the starting dates. Thus,\n",
    "if someone started on the `'2024-10-18'` and that today was the `'2024-10-27'`, only the\n",
    "week from the 18th to the 25th would be taken into account."
   ]
  }
 ],
 "metadata": {
  "kernelspec": {
   "display_name": ".venv",
   "language": "python",
   "name": "python3"
  },
  "language_info": {
   "codemirror_mode": {
    "name": "ipython",
    "version": 3
   },
   "file_extension": ".py",
   "mimetype": "text/x-python",
   "name": "python",
   "nbconvert_exporter": "python",
   "pygments_lexer": "ipython3",
   "version": "3.10.11"
  }
 },
 "nbformat": 4,
 "nbformat_minor": 2
}
