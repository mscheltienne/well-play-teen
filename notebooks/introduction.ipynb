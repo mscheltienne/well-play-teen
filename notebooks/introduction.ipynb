{
 "cells": [
  {
   "cell_type": "markdown",
   "metadata": {},
   "source": [
    "# Plotting\n",
    "\n",
    "This notebook shows how to select part of the gametime dataset and how to visualize the\n",
    "dataset with [seaborn](https://seaborn.pydata.org/). All cells can be executed directly\n",
    "in the notebook. Order of execution matter, variables declared in a cell will only be\n",
    "available to another cell after its execution.\n",
    "\n",
    "## Concepts and background\n",
    "\n",
    "The dataset is stored in a CSV file and is both read and written by \n",
    "[pandas](https://pandas.pydata.org/). The plotting is handled through \n",
    "[seaborn](https://seaborn.pydata.org/). Introduction to both libraries can be very\n",
    "informative:\n",
    "\n",
    "- [pandas intro](https://pandas.pydata.org/docs/getting_started/index.html)\n",
    "- [seaborn intro](https://seaborn.pydata.org/tutorial/introduction.html)"
   ]
  },
  {
   "cell_type": "markdown",
   "metadata": {},
   "source": [
    "## Imports and reading the dataset\n",
    "\n",
    "The cell below will import all the functions and constants we need in this notebook."
   ]
  },
  {
   "cell_type": "code",
   "execution_count": 1,
   "metadata": {},
   "outputs": [],
   "source": [
    "import pandas as pd\n",
    "import seaborn as sns\n",
    "\n",
    "from wp.gametime import DF_DTYPES\n",
    "from wp.utils.dataframe import prepare_dataframe, select_datetimes, select_steam_ids\n",
    "from wp.utils.viz import make_plot_prettier\n",
    "\n",
    "%matplotlib inline"
   ]
  },
  {
   "cell_type": "markdown",
   "metadata": {},
   "source": [
    "Next, we need to define which file we are going to read. For this introduction purposes,\n",
    "we'll use a sample file shipped with this package. If you want to use a different file,\n",
    "ignore the cell below and enter the `gametime.csv` full file path in the variable \n",
    "`fname`."
   ]
  },
  {
   "cell_type": "code",
   "execution_count": 2,
   "metadata": {},
   "outputs": [],
   "source": [
    "# ignore this cell if you want to run the introduction/demo, else provide the file path\n",
    "# to your dataset\n",
    "fname: str = \"\""
   ]
  },
  {
   "cell_type": "code",
   "execution_count": 3,
   "metadata": {},
   "outputs": [],
   "source": [
    "from importlib.resources import files\n",
    "\n",
    "fname = files(\"wp.tests\") / \"data\" / \"gametime.csv\""
   ]
  },
  {
   "cell_type": "markdown",
   "metadata": {},
   "source": [
    "Now that we know which file we are going to read, we can open it with `pd.read_csv`. \n",
    "We include some non-default argument to:\n",
    "- force the datatype of the different columns (`str` for `steam_id` and `game_id`, ...)\n",
    "- parse the datetime from the `acq_time` column"
   ]
  },
  {
   "cell_type": "code",
   "execution_count": 4,
   "metadata": {},
   "outputs": [],
   "source": [
    "df = pd.read_csv(fname, index_col=0, dtype=DF_DTYPES, parse_dates=[\"acq_time\"])"
   ]
  },
  {
   "cell_type": "markdown",
   "metadata": {},
   "source": [
    "We can render the dataframe inline in this notebook:"
   ]
  },
  {
   "cell_type": "code",
   "execution_count": 5,
   "metadata": {},
   "outputs": [
    {
     "data": {
      "text/html": [
       "<div>\n",
       "<style scoped>\n",
       "    .dataframe tbody tr th:only-of-type {\n",
       "        vertical-align: middle;\n",
       "    }\n",
       "\n",
       "    .dataframe tbody tr th {\n",
       "        vertical-align: top;\n",
       "    }\n",
       "\n",
       "    .dataframe thead th {\n",
       "        text-align: right;\n",
       "    }\n",
       "</style>\n",
       "<table border=\"1\" class=\"dataframe\">\n",
       "  <thead>\n",
       "    <tr style=\"text-align: right;\">\n",
       "      <th></th>\n",
       "      <th>steam_id</th>\n",
       "      <th>acq_time</th>\n",
       "      <th>game_time</th>\n",
       "      <th>game_id</th>\n",
       "      <th>game_time_diff</th>\n",
       "    </tr>\n",
       "  </thead>\n",
       "  <tbody>\n",
       "    <tr>\n",
       "      <th>0</th>\n",
       "      <td>76561198329580271</td>\n",
       "      <td>2024-04-12 10:40:06+00:00</td>\n",
       "      <td>0</td>\n",
       "      <td>2163350</td>\n",
       "      <td>NaN</td>\n",
       "    </tr>\n",
       "    <tr>\n",
       "      <th>1</th>\n",
       "      <td>76561198329580271</td>\n",
       "      <td>2024-04-12 11:40:53+00:00</td>\n",
       "      <td>8</td>\n",
       "      <td>2163350</td>\n",
       "      <td>8.0</td>\n",
       "    </tr>\n",
       "    <tr>\n",
       "      <th>2</th>\n",
       "      <td>76561198329580271</td>\n",
       "      <td>2024-04-12 12:41:01+00:00</td>\n",
       "      <td>12</td>\n",
       "      <td>2163350</td>\n",
       "      <td>4.0</td>\n",
       "    </tr>\n",
       "    <tr>\n",
       "      <th>3</th>\n",
       "      <td>76561198329580271</td>\n",
       "      <td>2024-04-12 13:41:16+00:00</td>\n",
       "      <td>32</td>\n",
       "      <td>2163350</td>\n",
       "      <td>20.0</td>\n",
       "    </tr>\n",
       "    <tr>\n",
       "      <th>4</th>\n",
       "      <td>76561198329580271</td>\n",
       "      <td>2024-04-12 14:41:26+00:00</td>\n",
       "      <td>62</td>\n",
       "      <td>2163350</td>\n",
       "      <td>30.0</td>\n",
       "    </tr>\n",
       "    <tr>\n",
       "      <th>...</th>\n",
       "      <td>...</td>\n",
       "      <td>...</td>\n",
       "      <td>...</td>\n",
       "      <td>...</td>\n",
       "      <td>...</td>\n",
       "    </tr>\n",
       "    <tr>\n",
       "      <th>75</th>\n",
       "      <td>76561198329580279</td>\n",
       "      <td>2024-04-12 13:41:16+00:00</td>\n",
       "      <td>38</td>\n",
       "      <td>78000</td>\n",
       "      <td>18.0</td>\n",
       "    </tr>\n",
       "    <tr>\n",
       "      <th>76</th>\n",
       "      <td>76561198329580279</td>\n",
       "      <td>2024-04-12 14:41:26+00:00</td>\n",
       "      <td>42</td>\n",
       "      <td>78000</td>\n",
       "      <td>4.0</td>\n",
       "    </tr>\n",
       "    <tr>\n",
       "      <th>77</th>\n",
       "      <td>76561198329580279</td>\n",
       "      <td>2024-04-12 15:41:29+00:00</td>\n",
       "      <td>49</td>\n",
       "      <td>78000</td>\n",
       "      <td>7.0</td>\n",
       "    </tr>\n",
       "    <tr>\n",
       "      <th>78</th>\n",
       "      <td>76561198329580279</td>\n",
       "      <td>2024-04-12 16:41:31+00:00</td>\n",
       "      <td>61</td>\n",
       "      <td>78000</td>\n",
       "      <td>12.0</td>\n",
       "    </tr>\n",
       "    <tr>\n",
       "      <th>79</th>\n",
       "      <td>76561198329580279</td>\n",
       "      <td>2024-04-12 17:41:33+00:00</td>\n",
       "      <td>78</td>\n",
       "      <td>78000</td>\n",
       "      <td>17.0</td>\n",
       "    </tr>\n",
       "  </tbody>\n",
       "</table>\n",
       "<p>80 rows × 5 columns</p>\n",
       "</div>"
      ],
      "text/plain": [
       "             steam_id                  acq_time  game_time  game_id  \\\n",
       "0   76561198329580271 2024-04-12 10:40:06+00:00          0  2163350   \n",
       "1   76561198329580271 2024-04-12 11:40:53+00:00          8  2163350   \n",
       "2   76561198329580271 2024-04-12 12:41:01+00:00         12  2163350   \n",
       "3   76561198329580271 2024-04-12 13:41:16+00:00         32  2163350   \n",
       "4   76561198329580271 2024-04-12 14:41:26+00:00         62  2163350   \n",
       "..                ...                       ...        ...      ...   \n",
       "75  76561198329580279 2024-04-12 13:41:16+00:00         38    78000   \n",
       "76  76561198329580279 2024-04-12 14:41:26+00:00         42    78000   \n",
       "77  76561198329580279 2024-04-12 15:41:29+00:00         49    78000   \n",
       "78  76561198329580279 2024-04-12 16:41:31+00:00         61    78000   \n",
       "79  76561198329580279 2024-04-12 17:41:33+00:00         78    78000   \n",
       "\n",
       "    game_time_diff  \n",
       "0              NaN  \n",
       "1              8.0  \n",
       "2              4.0  \n",
       "3             20.0  \n",
       "4             30.0  \n",
       "..             ...  \n",
       "75            18.0  \n",
       "76             4.0  \n",
       "77             7.0  \n",
       "78            12.0  \n",
       "79            17.0  \n",
       "\n",
       "[80 rows x 5 columns]"
      ]
     },
     "execution_count": 5,
     "metadata": {},
     "output_type": "execute_result"
    }
   ],
   "source": [
    "df"
   ]
  },
  {
   "cell_type": "markdown",
   "metadata": {},
   "source": [
    "To explore the dataset, let's have a look at the different acquisition times and the\n",
    "different steam IDs present."
   ]
  },
  {
   "cell_type": "code",
   "execution_count": 6,
   "metadata": {},
   "outputs": [
    {
     "data": {
      "text/plain": [
       "array(['76561198329580271', '76561198329580270', '76561198329580272',\n",
       "       '76561198329580273', '76561198329580274', '76561198329580275',\n",
       "       '76561198329580276', '76561198329580277', '76561198329580278',\n",
       "       '76561198329580279'], dtype=object)"
      ]
     },
     "execution_count": 6,
     "metadata": {},
     "output_type": "execute_result"
    }
   ],
   "source": [
    "df[\"steam_id\"].unique()"
   ]
  },
  {
   "cell_type": "code",
   "execution_count": 7,
   "metadata": {},
   "outputs": [
    {
     "data": {
      "text/plain": [
       "<DatetimeArray>\n",
       "['2024-04-12 10:40:06+00:00', '2024-04-12 11:40:53+00:00',\n",
       " '2024-04-12 12:41:01+00:00', '2024-04-12 13:41:16+00:00',\n",
       " '2024-04-12 14:41:26+00:00', '2024-04-12 15:41:29+00:00',\n",
       " '2024-04-12 16:41:31+00:00', '2024-04-12 17:41:33+00:00']\n",
       "Length: 8, dtype: datetime64[ns, UTC]"
      ]
     },
     "execution_count": 7,
     "metadata": {},
     "output_type": "execute_result"
    }
   ],
   "source": [
    "df[\"acq_time\"].unique()"
   ]
  },
  {
   "cell_type": "markdown",
   "metadata": {},
   "source": [
    "## Select part of the dataset\n",
    "\n",
    "The functions `prepare_dataframe`, `select_datetimes`, and `select_steam_ids` are used\n",
    "to prepare the dataset before plotting and to select data spans.\n",
    "\n",
    "- `prepare_dataframe` will map the steam IDs to usernames/tokens and map the game IDs to\n",
    "  game names. It will make plot prettier!\n",
    "- `select_steam_ids` will select a limited list of steam IDs. Attention, if the steam ID\n",
    "  was map to a username, the username should be used to select this user.\n",
    "- `select_datetimes` will select a time span and will resample the dataset.\n",
    "\n",
    "### Prepare the dataset"
   ]
  },
  {
   "cell_type": "code",
   "execution_count": 8,
   "metadata": {},
   "outputs": [],
   "source": [
    "mapping = {\"76561198329580271\": \"necromancia\"}  # let's map this username on the ID\n",
    "df = prepare_dataframe(df, mapping)"
   ]
  },
  {
   "cell_type": "code",
   "execution_count": 9,
   "metadata": {},
   "outputs": [
    {
     "data": {
      "text/html": [
       "<div>\n",
       "<style scoped>\n",
       "    .dataframe tbody tr th:only-of-type {\n",
       "        vertical-align: middle;\n",
       "    }\n",
       "\n",
       "    .dataframe tbody tr th {\n",
       "        vertical-align: top;\n",
       "    }\n",
       "\n",
       "    .dataframe thead th {\n",
       "        text-align: right;\n",
       "    }\n",
       "</style>\n",
       "<table border=\"1\" class=\"dataframe\">\n",
       "  <thead>\n",
       "    <tr style=\"text-align: right;\">\n",
       "      <th></th>\n",
       "      <th>steam_id</th>\n",
       "      <th>acq_time</th>\n",
       "      <th>game_time</th>\n",
       "      <th>game_id</th>\n",
       "      <th>game_time_diff</th>\n",
       "    </tr>\n",
       "  </thead>\n",
       "  <tbody>\n",
       "    <tr>\n",
       "      <th>0</th>\n",
       "      <td>necromancia</td>\n",
       "      <td>2024-04-12 10:40:06+00:00</td>\n",
       "      <td>0</td>\n",
       "      <td>Ecorescue</td>\n",
       "      <td>NaN</td>\n",
       "    </tr>\n",
       "    <tr>\n",
       "      <th>1</th>\n",
       "      <td>necromancia</td>\n",
       "      <td>2024-04-12 11:40:53+00:00</td>\n",
       "      <td>8</td>\n",
       "      <td>Ecorescue</td>\n",
       "      <td>8.0</td>\n",
       "    </tr>\n",
       "    <tr>\n",
       "      <th>2</th>\n",
       "      <td>necromancia</td>\n",
       "      <td>2024-04-12 12:41:01+00:00</td>\n",
       "      <td>12</td>\n",
       "      <td>Ecorescue</td>\n",
       "      <td>4.0</td>\n",
       "    </tr>\n",
       "    <tr>\n",
       "      <th>3</th>\n",
       "      <td>necromancia</td>\n",
       "      <td>2024-04-12 13:41:16+00:00</td>\n",
       "      <td>32</td>\n",
       "      <td>Ecorescue</td>\n",
       "      <td>20.0</td>\n",
       "    </tr>\n",
       "    <tr>\n",
       "      <th>4</th>\n",
       "      <td>necromancia</td>\n",
       "      <td>2024-04-12 14:41:26+00:00</td>\n",
       "      <td>62</td>\n",
       "      <td>Ecorescue</td>\n",
       "      <td>30.0</td>\n",
       "    </tr>\n",
       "    <tr>\n",
       "      <th>...</th>\n",
       "      <td>...</td>\n",
       "      <td>...</td>\n",
       "      <td>...</td>\n",
       "      <td>...</td>\n",
       "      <td>...</td>\n",
       "    </tr>\n",
       "    <tr>\n",
       "      <th>75</th>\n",
       "      <td>76561198329580279</td>\n",
       "      <td>2024-04-12 13:41:16+00:00</td>\n",
       "      <td>38</td>\n",
       "      <td>Bejeweled</td>\n",
       "      <td>18.0</td>\n",
       "    </tr>\n",
       "    <tr>\n",
       "      <th>76</th>\n",
       "      <td>76561198329580279</td>\n",
       "      <td>2024-04-12 14:41:26+00:00</td>\n",
       "      <td>42</td>\n",
       "      <td>Bejeweled</td>\n",
       "      <td>4.0</td>\n",
       "    </tr>\n",
       "    <tr>\n",
       "      <th>77</th>\n",
       "      <td>76561198329580279</td>\n",
       "      <td>2024-04-12 15:41:29+00:00</td>\n",
       "      <td>49</td>\n",
       "      <td>Bejeweled</td>\n",
       "      <td>7.0</td>\n",
       "    </tr>\n",
       "    <tr>\n",
       "      <th>78</th>\n",
       "      <td>76561198329580279</td>\n",
       "      <td>2024-04-12 16:41:31+00:00</td>\n",
       "      <td>61</td>\n",
       "      <td>Bejeweled</td>\n",
       "      <td>12.0</td>\n",
       "    </tr>\n",
       "    <tr>\n",
       "      <th>79</th>\n",
       "      <td>76561198329580279</td>\n",
       "      <td>2024-04-12 17:41:33+00:00</td>\n",
       "      <td>78</td>\n",
       "      <td>Bejeweled</td>\n",
       "      <td>17.0</td>\n",
       "    </tr>\n",
       "  </tbody>\n",
       "</table>\n",
       "<p>80 rows × 5 columns</p>\n",
       "</div>"
      ],
      "text/plain": [
       "             steam_id                  acq_time  game_time    game_id  \\\n",
       "0         necromancia 2024-04-12 10:40:06+00:00          0  Ecorescue   \n",
       "1         necromancia 2024-04-12 11:40:53+00:00          8  Ecorescue   \n",
       "2         necromancia 2024-04-12 12:41:01+00:00         12  Ecorescue   \n",
       "3         necromancia 2024-04-12 13:41:16+00:00         32  Ecorescue   \n",
       "4         necromancia 2024-04-12 14:41:26+00:00         62  Ecorescue   \n",
       "..                ...                       ...        ...        ...   \n",
       "75  76561198329580279 2024-04-12 13:41:16+00:00         38  Bejeweled   \n",
       "76  76561198329580279 2024-04-12 14:41:26+00:00         42  Bejeweled   \n",
       "77  76561198329580279 2024-04-12 15:41:29+00:00         49  Bejeweled   \n",
       "78  76561198329580279 2024-04-12 16:41:31+00:00         61  Bejeweled   \n",
       "79  76561198329580279 2024-04-12 17:41:33+00:00         78  Bejeweled   \n",
       "\n",
       "    game_time_diff  \n",
       "0              NaN  \n",
       "1              8.0  \n",
       "2              4.0  \n",
       "3             20.0  \n",
       "4             30.0  \n",
       "..             ...  \n",
       "75            18.0  \n",
       "76             4.0  \n",
       "77             7.0  \n",
       "78            12.0  \n",
       "79            17.0  \n",
       "\n",
       "[80 rows x 5 columns]"
      ]
     },
     "execution_count": 9,
     "metadata": {},
     "output_type": "execute_result"
    }
   ],
   "source": [
    "df"
   ]
  },
  {
   "cell_type": "markdown",
   "metadata": {},
   "source": [
    "### Select steam IDs\n",
    "\n",
    "Let's select only 2 steam IDs, `76561198329580279` and the recently mapped \n",
    "`necromancia`."
   ]
  },
  {
   "cell_type": "code",
   "execution_count": 10,
   "metadata": {},
   "outputs": [],
   "source": [
    "df = select_steam_ids(df, [\"necromancia\", \"76561198329580279\"])"
   ]
  },
  {
   "cell_type": "code",
   "execution_count": 11,
   "metadata": {},
   "outputs": [
    {
     "data": {
      "text/html": [
       "<div>\n",
       "<style scoped>\n",
       "    .dataframe tbody tr th:only-of-type {\n",
       "        vertical-align: middle;\n",
       "    }\n",
       "\n",
       "    .dataframe tbody tr th {\n",
       "        vertical-align: top;\n",
       "    }\n",
       "\n",
       "    .dataframe thead th {\n",
       "        text-align: right;\n",
       "    }\n",
       "</style>\n",
       "<table border=\"1\" class=\"dataframe\">\n",
       "  <thead>\n",
       "    <tr style=\"text-align: right;\">\n",
       "      <th></th>\n",
       "      <th>steam_id</th>\n",
       "      <th>acq_time</th>\n",
       "      <th>game_time</th>\n",
       "      <th>game_id</th>\n",
       "      <th>game_time_diff</th>\n",
       "    </tr>\n",
       "  </thead>\n",
       "  <tbody>\n",
       "    <tr>\n",
       "      <th>0</th>\n",
       "      <td>necromancia</td>\n",
       "      <td>2024-04-12 10:40:06+00:00</td>\n",
       "      <td>0</td>\n",
       "      <td>Ecorescue</td>\n",
       "      <td>NaN</td>\n",
       "    </tr>\n",
       "    <tr>\n",
       "      <th>1</th>\n",
       "      <td>necromancia</td>\n",
       "      <td>2024-04-12 11:40:53+00:00</td>\n",
       "      <td>8</td>\n",
       "      <td>Ecorescue</td>\n",
       "      <td>8.0</td>\n",
       "    </tr>\n",
       "    <tr>\n",
       "      <th>2</th>\n",
       "      <td>necromancia</td>\n",
       "      <td>2024-04-12 12:41:01+00:00</td>\n",
       "      <td>12</td>\n",
       "      <td>Ecorescue</td>\n",
       "      <td>4.0</td>\n",
       "    </tr>\n",
       "    <tr>\n",
       "      <th>3</th>\n",
       "      <td>necromancia</td>\n",
       "      <td>2024-04-12 13:41:16+00:00</td>\n",
       "      <td>32</td>\n",
       "      <td>Ecorescue</td>\n",
       "      <td>20.0</td>\n",
       "    </tr>\n",
       "    <tr>\n",
       "      <th>4</th>\n",
       "      <td>necromancia</td>\n",
       "      <td>2024-04-12 14:41:26+00:00</td>\n",
       "      <td>62</td>\n",
       "      <td>Ecorescue</td>\n",
       "      <td>30.0</td>\n",
       "    </tr>\n",
       "    <tr>\n",
       "      <th>5</th>\n",
       "      <td>necromancia</td>\n",
       "      <td>2024-04-12 15:41:29+00:00</td>\n",
       "      <td>62</td>\n",
       "      <td>Ecorescue</td>\n",
       "      <td>0.0</td>\n",
       "    </tr>\n",
       "    <tr>\n",
       "      <th>6</th>\n",
       "      <td>necromancia</td>\n",
       "      <td>2024-04-12 16:41:31+00:00</td>\n",
       "      <td>68</td>\n",
       "      <td>Ecorescue</td>\n",
       "      <td>6.0</td>\n",
       "    </tr>\n",
       "    <tr>\n",
       "      <th>7</th>\n",
       "      <td>necromancia</td>\n",
       "      <td>2024-04-12 17:41:33+00:00</td>\n",
       "      <td>75</td>\n",
       "      <td>Ecorescue</td>\n",
       "      <td>7.0</td>\n",
       "    </tr>\n",
       "    <tr>\n",
       "      <th>8</th>\n",
       "      <td>76561198329580279</td>\n",
       "      <td>2024-04-12 10:40:06+00:00</td>\n",
       "      <td>0</td>\n",
       "      <td>Bejeweled</td>\n",
       "      <td>NaN</td>\n",
       "    </tr>\n",
       "    <tr>\n",
       "      <th>9</th>\n",
       "      <td>76561198329580279</td>\n",
       "      <td>2024-04-12 11:40:53+00:00</td>\n",
       "      <td>6</td>\n",
       "      <td>Bejeweled</td>\n",
       "      <td>6.0</td>\n",
       "    </tr>\n",
       "    <tr>\n",
       "      <th>10</th>\n",
       "      <td>76561198329580279</td>\n",
       "      <td>2024-04-12 12:41:01+00:00</td>\n",
       "      <td>20</td>\n",
       "      <td>Bejeweled</td>\n",
       "      <td>14.0</td>\n",
       "    </tr>\n",
       "    <tr>\n",
       "      <th>11</th>\n",
       "      <td>76561198329580279</td>\n",
       "      <td>2024-04-12 13:41:16+00:00</td>\n",
       "      <td>38</td>\n",
       "      <td>Bejeweled</td>\n",
       "      <td>18.0</td>\n",
       "    </tr>\n",
       "    <tr>\n",
       "      <th>12</th>\n",
       "      <td>76561198329580279</td>\n",
       "      <td>2024-04-12 14:41:26+00:00</td>\n",
       "      <td>42</td>\n",
       "      <td>Bejeweled</td>\n",
       "      <td>4.0</td>\n",
       "    </tr>\n",
       "    <tr>\n",
       "      <th>13</th>\n",
       "      <td>76561198329580279</td>\n",
       "      <td>2024-04-12 15:41:29+00:00</td>\n",
       "      <td>49</td>\n",
       "      <td>Bejeweled</td>\n",
       "      <td>7.0</td>\n",
       "    </tr>\n",
       "    <tr>\n",
       "      <th>14</th>\n",
       "      <td>76561198329580279</td>\n",
       "      <td>2024-04-12 16:41:31+00:00</td>\n",
       "      <td>61</td>\n",
       "      <td>Bejeweled</td>\n",
       "      <td>12.0</td>\n",
       "    </tr>\n",
       "    <tr>\n",
       "      <th>15</th>\n",
       "      <td>76561198329580279</td>\n",
       "      <td>2024-04-12 17:41:33+00:00</td>\n",
       "      <td>78</td>\n",
       "      <td>Bejeweled</td>\n",
       "      <td>17.0</td>\n",
       "    </tr>\n",
       "  </tbody>\n",
       "</table>\n",
       "</div>"
      ],
      "text/plain": [
       "             steam_id                  acq_time  game_time    game_id  \\\n",
       "0         necromancia 2024-04-12 10:40:06+00:00          0  Ecorescue   \n",
       "1         necromancia 2024-04-12 11:40:53+00:00          8  Ecorescue   \n",
       "2         necromancia 2024-04-12 12:41:01+00:00         12  Ecorescue   \n",
       "3         necromancia 2024-04-12 13:41:16+00:00         32  Ecorescue   \n",
       "4         necromancia 2024-04-12 14:41:26+00:00         62  Ecorescue   \n",
       "5         necromancia 2024-04-12 15:41:29+00:00         62  Ecorescue   \n",
       "6         necromancia 2024-04-12 16:41:31+00:00         68  Ecorescue   \n",
       "7         necromancia 2024-04-12 17:41:33+00:00         75  Ecorescue   \n",
       "8   76561198329580279 2024-04-12 10:40:06+00:00          0  Bejeweled   \n",
       "9   76561198329580279 2024-04-12 11:40:53+00:00          6  Bejeweled   \n",
       "10  76561198329580279 2024-04-12 12:41:01+00:00         20  Bejeweled   \n",
       "11  76561198329580279 2024-04-12 13:41:16+00:00         38  Bejeweled   \n",
       "12  76561198329580279 2024-04-12 14:41:26+00:00         42  Bejeweled   \n",
       "13  76561198329580279 2024-04-12 15:41:29+00:00         49  Bejeweled   \n",
       "14  76561198329580279 2024-04-12 16:41:31+00:00         61  Bejeweled   \n",
       "15  76561198329580279 2024-04-12 17:41:33+00:00         78  Bejeweled   \n",
       "\n",
       "    game_time_diff  \n",
       "0              NaN  \n",
       "1              8.0  \n",
       "2              4.0  \n",
       "3             20.0  \n",
       "4             30.0  \n",
       "5              0.0  \n",
       "6              6.0  \n",
       "7              7.0  \n",
       "8              NaN  \n",
       "9              6.0  \n",
       "10            14.0  \n",
       "11            18.0  \n",
       "12             4.0  \n",
       "13             7.0  \n",
       "14            12.0  \n",
       "15            17.0  "
      ]
     },
     "execution_count": 11,
     "metadata": {},
     "output_type": "execute_result"
    }
   ],
   "source": [
    "df"
   ]
  },
  {
   "cell_type": "markdown",
   "metadata": {},
   "source": [
    "### Select time span and resampled\n",
    "\n",
    "`select_datetimes` takes 3 arguments in input: `start`, `end` and `freq`. At least one\n",
    "of the arguments must be provided. \n",
    "\n",
    "*Note: if you want help with any function, just enter `function_name?` in a cell. You \n",
    "can click on `View as a scrollable element` if the output is truncated.*"
   ]
  },
  {
   "cell_type": "code",
   "execution_count": 12,
   "metadata": {},
   "outputs": [
    {
     "name": "stdout",
     "output_type": "stream",
     "text": [
      "\u001b[0;31mSignature:\u001b[0m\n",
      "\u001b[0mselect_datetimes\u001b[0m\u001b[0;34m(\u001b[0m\u001b[0;34m\u001b[0m\n",
      "\u001b[0;34m\u001b[0m    \u001b[0mdf\u001b[0m\u001b[0;34m:\u001b[0m \u001b[0mpandas\u001b[0m\u001b[0;34m.\u001b[0m\u001b[0mcore\u001b[0m\u001b[0;34m.\u001b[0m\u001b[0mframe\u001b[0m\u001b[0;34m.\u001b[0m\u001b[0mDataFrame\u001b[0m\u001b[0;34m,\u001b[0m\u001b[0;34m\u001b[0m\n",
      "\u001b[0;34m\u001b[0m    \u001b[0mstart\u001b[0m\u001b[0;34m:\u001b[0m \u001b[0mstr\u001b[0m \u001b[0;34m|\u001b[0m \u001b[0mpandas\u001b[0m\u001b[0;34m.\u001b[0m\u001b[0m_libs\u001b[0m\u001b[0;34m.\u001b[0m\u001b[0mtslibs\u001b[0m\u001b[0;34m.\u001b[0m\u001b[0mtimestamps\u001b[0m\u001b[0;34m.\u001b[0m\u001b[0mTimestamp\u001b[0m \u001b[0;34m|\u001b[0m \u001b[0;32mNone\u001b[0m \u001b[0;34m=\u001b[0m \u001b[0;32mNone\u001b[0m\u001b[0;34m,\u001b[0m\u001b[0;34m\u001b[0m\n",
      "\u001b[0;34m\u001b[0m    \u001b[0mend\u001b[0m\u001b[0;34m:\u001b[0m \u001b[0mstr\u001b[0m \u001b[0;34m|\u001b[0m \u001b[0mpandas\u001b[0m\u001b[0;34m.\u001b[0m\u001b[0m_libs\u001b[0m\u001b[0;34m.\u001b[0m\u001b[0mtslibs\u001b[0m\u001b[0;34m.\u001b[0m\u001b[0mtimestamps\u001b[0m\u001b[0;34m.\u001b[0m\u001b[0mTimestamp\u001b[0m \u001b[0;34m|\u001b[0m \u001b[0;32mNone\u001b[0m \u001b[0;34m=\u001b[0m \u001b[0;32mNone\u001b[0m\u001b[0;34m,\u001b[0m\u001b[0;34m\u001b[0m\n",
      "\u001b[0;34m\u001b[0m    \u001b[0mfreq\u001b[0m\u001b[0;34m:\u001b[0m \u001b[0mstr\u001b[0m \u001b[0;34m|\u001b[0m \u001b[0mpandas\u001b[0m\u001b[0;34m.\u001b[0m\u001b[0m_libs\u001b[0m\u001b[0;34m.\u001b[0m\u001b[0mtslibs\u001b[0m\u001b[0;34m.\u001b[0m\u001b[0mtimedeltas\u001b[0m\u001b[0;34m.\u001b[0m\u001b[0mTimedelta\u001b[0m \u001b[0;34m|\u001b[0m \u001b[0;32mNone\u001b[0m \u001b[0;34m=\u001b[0m \u001b[0;32mNone\u001b[0m\u001b[0;34m,\u001b[0m\u001b[0;34m\u001b[0m\n",
      "\u001b[0;34m\u001b[0m\u001b[0;34m)\u001b[0m \u001b[0;34m->\u001b[0m \u001b[0mpandas\u001b[0m\u001b[0;34m.\u001b[0m\u001b[0mcore\u001b[0m\u001b[0;34m.\u001b[0m\u001b[0mframe\u001b[0m\u001b[0;34m.\u001b[0m\u001b[0mDataFrame\u001b[0m\u001b[0;34m\u001b[0m\u001b[0;34m\u001b[0m\u001b[0m\n",
      "\u001b[0;31mDocstring:\u001b[0m\n",
      "Select and resample datetimes from the dataframe.\n",
      "\n",
      "Parameters\n",
      "----------\n",
      "df : pd.DataFrame\n",
      "    The DataFrame with the gametime data. The DataFrame should have columns\n",
      "    ``\"steam_id\"``, ``\"acq_time\"``, ``\"game_time\"``, ``\"game_id\"`` and\n",
      "    ``\"game_time_diff\"``.\n",
      "start : str | pd.Timestamp | None\n",
      "    Start datetime to select. If None, the minimum datetime in the dataframe is\n",
      "    used. If a string is provided, it should be in the format 'YYYY-MM-DD HH:MM:SS'.\n",
      "    In the string format, part of the string can be omitted, for instance\n",
      "    'YYYY-MM-DD' or 'YYYY-MM-DD HH:MM'.\n",
      "end : str | pd.Timestamp | None\n",
      "    End datetime to select. If None, the maximum datetime in the dataframe is\n",
      "    used. If a string is provided, it should be in the format 'YYYY-MM-DD HH:MM:SS'.\n",
      "    In the string format, part of the string can be omitted, for instance\n",
      "    'YYYY-MM-DD' or 'YYYY-MM-DD HH:MM'.\n",
      "freq : str | pd.Timedelta | None\n",
      "    Frequency to resample the datetimes. If None, no resampling is performed. If a\n",
      "    string is provided, it should be in the format 'XU', where 'X' is an integer and\n",
      "    'U' is a unit ('min', 'h', 'D', 'W'). If a Timedelta is provided, it is used\n",
      "    directly.\n",
      "\n",
      "Returns\n",
      "-------\n",
      "df : pd.DataFrame\n",
      "    The DataFrame with the gametime data. The DataFrame should have columns\n",
      "    ``\"steam_id\"``, ``\"acq_time\"``, ``\"game_time\"``, ``\"game_id\"`` and\n",
      "    ``\"game_time_diff\"``.\n",
      "\n",
      "Notes\n",
      "-----\n",
      "Resampling the dataset will create a range from 'start' to 'end' (included) with\n",
      "the desired frequency. Then, it selects the rows with the closest 'acq_time' to\n",
      "each of the resampled datetimes. Finally, it re-computes the game_time_diff column\n",
      "with the new resolution.\n",
      "\n",
      "Examples\n",
      "--------\n",
      "Selection of all samples between 01/05/2024 and 10/05/2024:\n",
      "\n",
      ">>> import pandas as pd\n",
      ">>>\n",
      ">>> from wp.gametime import DF_DTYPE\n",
      ">>> from wp.utils.dataframe import select_datetimes\n",
      ">>>\n",
      ">>> df = pd.read_csv(fname, index_col=0, dtype=DF_DTYPES, parse_dates=[\"acq_time\"])\n",
      ">>> df = select_datetimes(df, start=\"2024-05-01\", end=\"2024-05-10\")\n",
      "\n",
      "Selection of all samples between 01/05/2024 and 10/05/2024, resampled every 6 hours:\n",
      "\n",
      ">>> import pandas as pd\n",
      ">>>\n",
      ">>> from wp.gametime import DF_DTYPE\n",
      ">>> from wp.utils.dataframe import select_datetimes\n",
      ">>>\n",
      ">>> df = pd.read_csv(fname, index_col=0, dtype=DF_DTYPES, parse_dates=[\"acq_time\"])\n",
      ">>> df = select_datetimes(df, start=\"2024-05-01\", end=\"2024-05-10\", freq=\"6h\")\n",
      "\u001b[0;31mFile:\u001b[0m      ~/git/mscheltienne/well-play-teen/wp/utils/dataframe.py\n",
      "\u001b[0;31mType:\u001b[0m      function"
     ]
    }
   ],
   "source": [
    "select_datetimes?"
   ]
  },
  {
   "cell_type": "markdown",
   "metadata": {},
   "source": [
    "Anyway, this sample dataset has 8 timepoints, spaced by 1 hour on the 12th of April \n",
    "2024."
   ]
  },
  {
   "cell_type": "code",
   "execution_count": 13,
   "metadata": {},
   "outputs": [
    {
     "data": {
      "text/plain": [
       "<DatetimeArray>\n",
       "['2024-04-12 10:40:06+00:00', '2024-04-12 11:40:53+00:00',\n",
       " '2024-04-12 12:41:01+00:00', '2024-04-12 13:41:16+00:00',\n",
       " '2024-04-12 14:41:26+00:00', '2024-04-12 15:41:29+00:00',\n",
       " '2024-04-12 16:41:31+00:00', '2024-04-12 17:41:33+00:00']\n",
       "Length: 8, dtype: datetime64[ns, UTC]"
      ]
     },
     "execution_count": 13,
     "metadata": {},
     "output_type": "execute_result"
    }
   ],
   "source": [
    "df[\"acq_time\"].unique()"
   ]
  },
  {
   "cell_type": "markdown",
   "metadata": {},
   "source": [
    "We can select the dates from 12h to 17h with a spacing (frequency) of 2 hours:"
   ]
  },
  {
   "cell_type": "code",
   "execution_count": 14,
   "metadata": {},
   "outputs": [],
   "source": [
    "df = df.copy(deep=True)  # let's make a copy to try different selection\n",
    "df_sel = select_datetimes(\n",
    "    df, start=\"2024-04-12 12:00\", end=\"2024-04-12 17:00\", freq=\"3h\"\n",
    ")"
   ]
  },
  {
   "cell_type": "code",
   "execution_count": 15,
   "metadata": {},
   "outputs": [
    {
     "data": {
      "text/html": [
       "<div>\n",
       "<style scoped>\n",
       "    .dataframe tbody tr th:only-of-type {\n",
       "        vertical-align: middle;\n",
       "    }\n",
       "\n",
       "    .dataframe tbody tr th {\n",
       "        vertical-align: top;\n",
       "    }\n",
       "\n",
       "    .dataframe thead th {\n",
       "        text-align: right;\n",
       "    }\n",
       "</style>\n",
       "<table border=\"1\" class=\"dataframe\">\n",
       "  <thead>\n",
       "    <tr style=\"text-align: right;\">\n",
       "      <th></th>\n",
       "      <th>steam_id</th>\n",
       "      <th>acq_time</th>\n",
       "      <th>game_time</th>\n",
       "      <th>game_id</th>\n",
       "      <th>game_time_diff</th>\n",
       "    </tr>\n",
       "  </thead>\n",
       "  <tbody>\n",
       "    <tr>\n",
       "      <th>0</th>\n",
       "      <td>necromancia</td>\n",
       "      <td>2024-04-12 12:41:01+00:00</td>\n",
       "      <td>12</td>\n",
       "      <td>Ecorescue</td>\n",
       "      <td>NaN</td>\n",
       "    </tr>\n",
       "    <tr>\n",
       "      <th>1</th>\n",
       "      <td>necromancia</td>\n",
       "      <td>2024-04-12 14:41:26+00:00</td>\n",
       "      <td>62</td>\n",
       "      <td>Ecorescue</td>\n",
       "      <td>50.0</td>\n",
       "    </tr>\n",
       "    <tr>\n",
       "      <th>2</th>\n",
       "      <td>76561198329580279</td>\n",
       "      <td>2024-04-12 12:41:01+00:00</td>\n",
       "      <td>20</td>\n",
       "      <td>Bejeweled</td>\n",
       "      <td>NaN</td>\n",
       "    </tr>\n",
       "    <tr>\n",
       "      <th>3</th>\n",
       "      <td>76561198329580279</td>\n",
       "      <td>2024-04-12 14:41:26+00:00</td>\n",
       "      <td>42</td>\n",
       "      <td>Bejeweled</td>\n",
       "      <td>22.0</td>\n",
       "    </tr>\n",
       "  </tbody>\n",
       "</table>\n",
       "</div>"
      ],
      "text/plain": [
       "            steam_id                  acq_time  game_time    game_id  \\\n",
       "0        necromancia 2024-04-12 12:41:01+00:00         12  Ecorescue   \n",
       "1        necromancia 2024-04-12 14:41:26+00:00         62  Ecorescue   \n",
       "2  76561198329580279 2024-04-12 12:41:01+00:00         20  Bejeweled   \n",
       "3  76561198329580279 2024-04-12 14:41:26+00:00         42  Bejeweled   \n",
       "\n",
       "   game_time_diff  \n",
       "0             NaN  \n",
       "1            50.0  \n",
       "2             NaN  \n",
       "3            22.0  "
      ]
     },
     "execution_count": 15,
     "metadata": {},
     "output_type": "execute_result"
    }
   ],
   "source": [
    "df_sel"
   ]
  },
  {
   "cell_type": "markdown",
   "metadata": {},
   "source": [
    "That's weird, our 2 selected time-points are spread by 2 hours instead of 3 hours as\n",
    "requested. Let's dissect what is going on:\n",
    "\n",
    "- We select all dates between `12h00` and `17h00`.\n",
    "- We create an index between `start` and `end` with a resolution of `3h`, and select\n",
    "  the `acq_time` closest to the index values.\n",
    "\n",
    "This second step is index on `12h00` and `17h00`, not on the first acquisition time per\n",
    "`steam_id`. The closest remaining `acq_time` to `12h00` is `12h41` and the closest \n",
    "remaining `acq_time` to `15h00` is `14h41` (and not `15h41`)."
   ]
  },
  {
   "cell_type": "code",
   "execution_count": 16,
   "metadata": {},
   "outputs": [
    {
     "data": {
      "text/plain": [
       "DatetimeIndex(['2024-04-12 12:00:00+00:00', '2024-04-12 15:00:00+00:00'], dtype='datetime64[ns, UTC]', freq='3h')"
      ]
     },
     "execution_count": 16,
     "metadata": {},
     "output_type": "execute_result"
    }
   ],
   "source": [
    "pd.date_range(start=\"2024-04-12 12:00\", end=\"2024-04-12 17:00\", freq=\"3h\", tz=\"utc\")"
   ]
  },
  {
   "cell_type": "markdown",
   "metadata": {},
   "source": [
    "Instead of performing both the time-span selection and resampling in one operation, we\n",
    "could perform it in 2 operations. By doing so, the resampling will base it's `start` and\n",
    "`end` arguments on the absolute `min()` and `max()` acquisition time."
   ]
  },
  {
   "cell_type": "code",
   "execution_count": 17,
   "metadata": {},
   "outputs": [],
   "source": [
    "df = select_datetimes(df, start=\"2024-04-12 12:00\", end=\"2024-04-12 17:00\", freq=None)\n",
    "df = select_datetimes(df, start=None, end=None, freq=\"3h\")"
   ]
  },
  {
   "cell_type": "code",
   "execution_count": 18,
   "metadata": {},
   "outputs": [
    {
     "data": {
      "text/html": [
       "<div>\n",
       "<style scoped>\n",
       "    .dataframe tbody tr th:only-of-type {\n",
       "        vertical-align: middle;\n",
       "    }\n",
       "\n",
       "    .dataframe tbody tr th {\n",
       "        vertical-align: top;\n",
       "    }\n",
       "\n",
       "    .dataframe thead th {\n",
       "        text-align: right;\n",
       "    }\n",
       "</style>\n",
       "<table border=\"1\" class=\"dataframe\">\n",
       "  <thead>\n",
       "    <tr style=\"text-align: right;\">\n",
       "      <th></th>\n",
       "      <th>steam_id</th>\n",
       "      <th>acq_time</th>\n",
       "      <th>game_time</th>\n",
       "      <th>game_id</th>\n",
       "      <th>game_time_diff</th>\n",
       "    </tr>\n",
       "  </thead>\n",
       "  <tbody>\n",
       "    <tr>\n",
       "      <th>0</th>\n",
       "      <td>necromancia</td>\n",
       "      <td>2024-04-12 12:41:01+00:00</td>\n",
       "      <td>12</td>\n",
       "      <td>Ecorescue</td>\n",
       "      <td>NaN</td>\n",
       "    </tr>\n",
       "    <tr>\n",
       "      <th>1</th>\n",
       "      <td>necromancia</td>\n",
       "      <td>2024-04-12 15:41:29+00:00</td>\n",
       "      <td>62</td>\n",
       "      <td>Ecorescue</td>\n",
       "      <td>50.0</td>\n",
       "    </tr>\n",
       "    <tr>\n",
       "      <th>2</th>\n",
       "      <td>76561198329580279</td>\n",
       "      <td>2024-04-12 12:41:01+00:00</td>\n",
       "      <td>20</td>\n",
       "      <td>Bejeweled</td>\n",
       "      <td>NaN</td>\n",
       "    </tr>\n",
       "    <tr>\n",
       "      <th>3</th>\n",
       "      <td>76561198329580279</td>\n",
       "      <td>2024-04-12 15:41:29+00:00</td>\n",
       "      <td>49</td>\n",
       "      <td>Bejeweled</td>\n",
       "      <td>29.0</td>\n",
       "    </tr>\n",
       "  </tbody>\n",
       "</table>\n",
       "</div>"
      ],
      "text/plain": [
       "            steam_id                  acq_time  game_time    game_id  \\\n",
       "0        necromancia 2024-04-12 12:41:01+00:00         12  Ecorescue   \n",
       "1        necromancia 2024-04-12 15:41:29+00:00         62  Ecorescue   \n",
       "2  76561198329580279 2024-04-12 12:41:01+00:00         20  Bejeweled   \n",
       "3  76561198329580279 2024-04-12 15:41:29+00:00         49  Bejeweled   \n",
       "\n",
       "   game_time_diff  \n",
       "0             NaN  \n",
       "1            50.0  \n",
       "2             NaN  \n",
       "3            29.0  "
      ]
     },
     "execution_count": 18,
     "metadata": {},
     "output_type": "execute_result"
    }
   ],
   "source": [
    "df"
   ]
  },
  {
   "cell_type": "markdown",
   "metadata": {},
   "source": [
    "This time, we do get a selection of `12h41` and `15h41`."
   ]
  },
  {
   "cell_type": "markdown",
   "metadata": {},
   "source": [
    "## Plot the dataframe\n",
    "\n",
    "Enter the beauty of [seaborn](https://seaborn.pydata.org/), a very high-level plotting\n",
    "library in python. Give it what type of plot, what X-axis, what Y-axis and what category\n",
    "grouping it should do, and it will handle the rest.\n",
    "\n",
    "For starting, let's reload the entire dataset to remove all the selection we did before."
   ]
  },
  {
   "cell_type": "code",
   "execution_count": 19,
   "metadata": {},
   "outputs": [],
   "source": [
    "df = pd.read_csv(fname, index_col=0, dtype=DF_DTYPES, parse_dates=[\"acq_time\"])\n",
    "df = prepare_dataframe(df, dict())  # to map the game names"
   ]
  },
  {
   "cell_type": "code",
   "execution_count": 20,
   "metadata": {},
   "outputs": [
    {
     "data": {
      "text/html": [
       "<div>\n",
       "<style scoped>\n",
       "    .dataframe tbody tr th:only-of-type {\n",
       "        vertical-align: middle;\n",
       "    }\n",
       "\n",
       "    .dataframe tbody tr th {\n",
       "        vertical-align: top;\n",
       "    }\n",
       "\n",
       "    .dataframe thead th {\n",
       "        text-align: right;\n",
       "    }\n",
       "</style>\n",
       "<table border=\"1\" class=\"dataframe\">\n",
       "  <thead>\n",
       "    <tr style=\"text-align: right;\">\n",
       "      <th></th>\n",
       "      <th>steam_id</th>\n",
       "      <th>acq_time</th>\n",
       "      <th>game_time</th>\n",
       "      <th>game_id</th>\n",
       "      <th>game_time_diff</th>\n",
       "    </tr>\n",
       "  </thead>\n",
       "  <tbody>\n",
       "    <tr>\n",
       "      <th>0</th>\n",
       "      <td>76561198329580271</td>\n",
       "      <td>2024-04-12 10:40:06+00:00</td>\n",
       "      <td>0</td>\n",
       "      <td>Ecorescue</td>\n",
       "      <td>NaN</td>\n",
       "    </tr>\n",
       "    <tr>\n",
       "      <th>1</th>\n",
       "      <td>76561198329580271</td>\n",
       "      <td>2024-04-12 11:40:53+00:00</td>\n",
       "      <td>8</td>\n",
       "      <td>Ecorescue</td>\n",
       "      <td>8.0</td>\n",
       "    </tr>\n",
       "    <tr>\n",
       "      <th>2</th>\n",
       "      <td>76561198329580271</td>\n",
       "      <td>2024-04-12 12:41:01+00:00</td>\n",
       "      <td>12</td>\n",
       "      <td>Ecorescue</td>\n",
       "      <td>4.0</td>\n",
       "    </tr>\n",
       "    <tr>\n",
       "      <th>3</th>\n",
       "      <td>76561198329580271</td>\n",
       "      <td>2024-04-12 13:41:16+00:00</td>\n",
       "      <td>32</td>\n",
       "      <td>Ecorescue</td>\n",
       "      <td>20.0</td>\n",
       "    </tr>\n",
       "    <tr>\n",
       "      <th>4</th>\n",
       "      <td>76561198329580271</td>\n",
       "      <td>2024-04-12 14:41:26+00:00</td>\n",
       "      <td>62</td>\n",
       "      <td>Ecorescue</td>\n",
       "      <td>30.0</td>\n",
       "    </tr>\n",
       "    <tr>\n",
       "      <th>...</th>\n",
       "      <td>...</td>\n",
       "      <td>...</td>\n",
       "      <td>...</td>\n",
       "      <td>...</td>\n",
       "      <td>...</td>\n",
       "    </tr>\n",
       "    <tr>\n",
       "      <th>75</th>\n",
       "      <td>76561198329580279</td>\n",
       "      <td>2024-04-12 13:41:16+00:00</td>\n",
       "      <td>38</td>\n",
       "      <td>Bejeweled</td>\n",
       "      <td>18.0</td>\n",
       "    </tr>\n",
       "    <tr>\n",
       "      <th>76</th>\n",
       "      <td>76561198329580279</td>\n",
       "      <td>2024-04-12 14:41:26+00:00</td>\n",
       "      <td>42</td>\n",
       "      <td>Bejeweled</td>\n",
       "      <td>4.0</td>\n",
       "    </tr>\n",
       "    <tr>\n",
       "      <th>77</th>\n",
       "      <td>76561198329580279</td>\n",
       "      <td>2024-04-12 15:41:29+00:00</td>\n",
       "      <td>49</td>\n",
       "      <td>Bejeweled</td>\n",
       "      <td>7.0</td>\n",
       "    </tr>\n",
       "    <tr>\n",
       "      <th>78</th>\n",
       "      <td>76561198329580279</td>\n",
       "      <td>2024-04-12 16:41:31+00:00</td>\n",
       "      <td>61</td>\n",
       "      <td>Bejeweled</td>\n",
       "      <td>12.0</td>\n",
       "    </tr>\n",
       "    <tr>\n",
       "      <th>79</th>\n",
       "      <td>76561198329580279</td>\n",
       "      <td>2024-04-12 17:41:33+00:00</td>\n",
       "      <td>78</td>\n",
       "      <td>Bejeweled</td>\n",
       "      <td>17.0</td>\n",
       "    </tr>\n",
       "  </tbody>\n",
       "</table>\n",
       "<p>80 rows × 5 columns</p>\n",
       "</div>"
      ],
      "text/plain": [
       "             steam_id                  acq_time  game_time    game_id  \\\n",
       "0   76561198329580271 2024-04-12 10:40:06+00:00          0  Ecorescue   \n",
       "1   76561198329580271 2024-04-12 11:40:53+00:00          8  Ecorescue   \n",
       "2   76561198329580271 2024-04-12 12:41:01+00:00         12  Ecorescue   \n",
       "3   76561198329580271 2024-04-12 13:41:16+00:00         32  Ecorescue   \n",
       "4   76561198329580271 2024-04-12 14:41:26+00:00         62  Ecorescue   \n",
       "..                ...                       ...        ...        ...   \n",
       "75  76561198329580279 2024-04-12 13:41:16+00:00         38  Bejeweled   \n",
       "76  76561198329580279 2024-04-12 14:41:26+00:00         42  Bejeweled   \n",
       "77  76561198329580279 2024-04-12 15:41:29+00:00         49  Bejeweled   \n",
       "78  76561198329580279 2024-04-12 16:41:31+00:00         61  Bejeweled   \n",
       "79  76561198329580279 2024-04-12 17:41:33+00:00         78  Bejeweled   \n",
       "\n",
       "    game_time_diff  \n",
       "0              NaN  \n",
       "1              8.0  \n",
       "2              4.0  \n",
       "3             20.0  \n",
       "4             30.0  \n",
       "..             ...  \n",
       "75            18.0  \n",
       "76             4.0  \n",
       "77             7.0  \n",
       "78            12.0  \n",
       "79            17.0  \n",
       "\n",
       "[80 rows x 5 columns]"
      ]
     },
     "execution_count": 20,
     "metadata": {},
     "output_type": "execute_result"
    }
   ],
   "source": [
    "df"
   ]
  },
  {
   "cell_type": "markdown",
   "metadata": {},
   "source": [
    "Let's start with barplot to compare the participants `game_time` in function of the\n",
    "dates, per game."
   ]
  },
  {
   "cell_type": "code",
   "execution_count": 32,
   "metadata": {},
   "outputs": [
    {
     "data": {
      "image/png": "[encoded data removed]",
      "text/plain": [
       "<Figure size 1011.11x500 with 2 Axes>"
      ]
     },
     "metadata": {},
     "output_type": "display_data"
    }
   ],
   "source": [
    "grid = sns.catplot(\n",
    "    df, kind=\"bar\", x=\"acq_time\", y=\"game_time\", col=\"game_id\", errorbar=None\n",
    ")\n",
    "make_plot_prettier(grid)"
   ]
  },
  {
   "cell_type": "markdown",
   "metadata": {},
   "source": [
    "Or maybe line plots of the total gametime per game in function of datetimes."
   ]
  },
  {
   "cell_type": "code",
   "execution_count": 33,
   "metadata": {},
   "outputs": [
    {
     "data": {
      "text/plain": [
       "<Axes: xlabel='acq_time', ylabel='game_time'>"
      ]
     },
     "execution_count": 33,
     "metadata": {},
     "output_type": "execute_result"
    },
    {
     "data": {
      "image/png": "[encoded data removed]",
      "text/plain": [
       "<Figure size 640x480 with 1 Axes>"
      ]
     },
     "metadata": {},
     "output_type": "display_data"
    }
   ],
   "source": [
    "ax = sns.lineplot(df, x=\"acq_time\", y=\"game_time\", hue=\"game_id\")\n",
    "make_plot_prettier(ax)"
   ]
  },
  {
   "cell_type": "code",
   "execution_count": null,
   "metadata": {},
   "outputs": [],
   "source": []
  }
 ],
 "metadata": {
  "kernelspec": {
   "display_name": ".venv",
   "language": "python",
   "name": "python3"
  },
  "language_info": {
   "codemirror_mode": {
    "name": "ipython",
    "version": 3
   },
   "file_extension": ".py",
   "mimetype": "text/x-python",
   "name": "python",
   "nbconvert_exporter": "python",
   "pygments_lexer": "ipython3",
   "version": "3.11.9"
  }
 },
 "nbformat": 4,
 "nbformat_minor": 2
}
