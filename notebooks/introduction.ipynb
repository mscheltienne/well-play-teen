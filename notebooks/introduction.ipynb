{
 "cells": [
  {
   "cell_type": "markdown",
   "metadata": {},
   "source": [
    "# Introduction\n",
    "\n",
    "This notebook shows how to select part of the gametime dataset and how to visualize the\n",
    "dataset with [seaborn](https://seaborn.pydata.org/). All cells can be executed directly\n",
    "in the notebook. Order of execution matter, variables declared in a cell will only be\n",
    "available to another cell after its execution.\n",
    "\n",
    "## Concepts and background\n",
    "\n",
    "The dataset is stored in a CSV file and is both read and written by \n",
    "[pandas](https://pandas.pydata.org/). The plotting is handled through \n",
    "[seaborn](https://seaborn.pydata.org/). Introduction to both libraries can be very\n",
    "informative:\n",
    "\n",
    "- [pandas intro](https://pandas.pydata.org/docs/getting_started/index.html)\n",
    "- [seaborn intro](https://seaborn.pydata.org/tutorial/introduction.html)"
   ]
  },
  {
   "cell_type": "markdown",
   "metadata": {},
   "source": [
    "## Imports and reading the dataset\n",
    "\n",
    "The cell below will import all the functions and constants we need in this notebook."
   ]
  },
  {
   "cell_type": "code",
   "execution_count": null,
   "metadata": {},
   "outputs": [],
   "source": [
    "import pandas as pd\n",
    "import seaborn as sns\n",
    "\n",
    "from wp.gametime import DF_DTYPES\n",
    "from wp.gametime.selection import prepare_dataframe, select_datetimes, select_steam_ids\n",
    "from wp.gametime.viz import make_plot_prettier\n",
    "\n",
    "%matplotlib inline"
   ]
  },
  {
   "cell_type": "markdown",
   "metadata": {},
   "source": [
    "Next, we need to define which file we are going to read. For this introduction purposes,\n",
    "we'll use a sample file shipped with this package. If you want to use a different file,\n",
    "ignore the cell below and enter the `gametime.csv` full file path in the variable \n",
    "`fname`."
   ]
  },
  {
   "cell_type": "code",
   "execution_count": null,
   "metadata": {},
   "outputs": [],
   "source": [
    "# ignore this cell if you want to run the introduction/demo, else provide the file path\n",
    "# to your dataset\n",
    "fname: str = \"\""
   ]
  },
  {
   "cell_type": "code",
   "execution_count": null,
   "metadata": {},
   "outputs": [],
   "source": [
    "from importlib.resources import files\n",
    "\n",
    "fname = files(\"wp.gametime.tests\") / \"data\" / \"gametime.csv\""
   ]
  },
  {
   "cell_type": "markdown",
   "metadata": {},
   "source": [
    "Now that we know which file we are going to read, we can open it with `pd.read_csv`. \n",
    "We include some non-default argument to:\n",
    "- force the datatype of the different columns (`str` for `steam_id` and `game_id`, ...)\n",
    "- parse the datetime from the `acq_time` column"
   ]
  },
  {
   "cell_type": "code",
   "execution_count": null,
   "metadata": {},
   "outputs": [],
   "source": [
    "df = pd.read_csv(fname, index_col=0, dtype=DF_DTYPES, parse_dates=[\"acq_time\"])"
   ]
  },
  {
   "cell_type": "markdown",
   "metadata": {},
   "source": [
    "We can render the dataframe inline in this notebook:"
   ]
  },
  {
   "cell_type": "code",
   "execution_count": null,
   "metadata": {},
   "outputs": [],
   "source": [
    "df"
   ]
  },
  {
   "cell_type": "markdown",
   "metadata": {},
   "source": [
    "To explore the dataset, let's have a look at the different acquisition times and the\n",
    "different steam IDs present."
   ]
  },
  {
   "cell_type": "code",
   "execution_count": null,
   "metadata": {},
   "outputs": [],
   "source": [
    "df[\"steam_id\"].unique()"
   ]
  },
  {
   "cell_type": "code",
   "execution_count": null,
   "metadata": {},
   "outputs": [],
   "source": [
    "df[\"acq_time\"].unique()"
   ]
  },
  {
   "cell_type": "markdown",
   "metadata": {},
   "source": [
    "## Select part of the dataset\n",
    "\n",
    "The functions `prepare_dataframe`, `select_datetimes`, and `select_steam_ids` are used\n",
    "to prepare the dataset before plotting and to select data spans.\n",
    "\n",
    "- `prepare_dataframe` will map the steam IDs to usernames/tokens and map the game IDs to\n",
    "  game names. It will make plot prettier!\n",
    "- `select_steam_ids` will select a limited list of steam IDs. Attention, if the steam ID\n",
    "  was map to a username, the username should be used to select this user.\n",
    "- `select_datetimes` will select a time span and will resample the dataset.\n",
    "\n",
    "### Prepare the dataset"
   ]
  },
  {
   "cell_type": "code",
   "execution_count": null,
   "metadata": {},
   "outputs": [],
   "source": [
    "mapping = {\"76561198329580271\": \"necromancia\"}  # let's map this username on the ID\n",
    "df = prepare_dataframe(df, mapping)"
   ]
  },
  {
   "cell_type": "code",
   "execution_count": null,
   "metadata": {},
   "outputs": [],
   "source": [
    "df"
   ]
  },
  {
   "cell_type": "markdown",
   "metadata": {},
   "source": [
    "### Select steam IDs\n",
    "\n",
    "Let's select only 2 steam IDs, `76561198329580279` and the recently mapped \n",
    "`necromancia`."
   ]
  },
  {
   "cell_type": "code",
   "execution_count": null,
   "metadata": {},
   "outputs": [],
   "source": [
    "df = select_steam_ids(df, [\"necromancia\", \"76561198329580279\"])"
   ]
  },
  {
   "cell_type": "code",
   "execution_count": null,
   "metadata": {},
   "outputs": [],
   "source": [
    "df"
   ]
  },
  {
   "cell_type": "markdown",
   "metadata": {},
   "source": [
    "### Select time span and resampled\n",
    "\n",
    "`select_datetimes` takes 3 arguments in input: `start`, `end` and `freq`. At least one\n",
    "of the arguments must be provided. \n",
    "\n",
    "*Note: if you want help with any function, just enter `function_name?` in a cell. You \n",
    "can click on `View as a scrollable element` if the output is truncated.*"
   ]
  },
  {
   "cell_type": "code",
   "execution_count": null,
   "metadata": {},
   "outputs": [],
   "source": [
    "select_datetimes?"
   ]
  },
  {
   "cell_type": "markdown",
   "metadata": {},
   "source": [
    "Anyway, this sample dataset has 8 timepoints, spaced by 1 hour on the 12th of April \n",
    "2024."
   ]
  },
  {
   "cell_type": "code",
   "execution_count": null,
   "metadata": {},
   "outputs": [],
   "source": [
    "df[\"acq_time\"].unique()"
   ]
  },
  {
   "cell_type": "markdown",
   "metadata": {},
   "source": [
    "We can select the dates from 12h to 17h with a spacing (frequency) of 2 hours:"
   ]
  },
  {
   "cell_type": "code",
   "execution_count": null,
   "metadata": {},
   "outputs": [],
   "source": [
    "df = df.copy(deep=True)  # let's make a copy to try different selection\n",
    "df_sel = select_datetimes(\n",
    "    df, start=\"2024-04-12 12:00\", end=\"2024-04-12 17:00\", freq=\"3h\"\n",
    ")"
   ]
  },
  {
   "cell_type": "code",
   "execution_count": null,
   "metadata": {},
   "outputs": [],
   "source": [
    "df_sel"
   ]
  },
  {
   "cell_type": "markdown",
   "metadata": {},
   "source": [
    "That's weird, our 2 selected time-points are spread by 2 hours instead of 3 hours as\n",
    "requested. Let's dissect what is going on:\n",
    "\n",
    "- We select all dates between `12h00` and `17h00`.\n",
    "- We create an index between `start` and `end` with a resolution of `3h`, and select\n",
    "  the `acq_time` closest to the index values.\n",
    "\n",
    "This second step is index on `12h00` and `17h00`, not on the first acquisition time per\n",
    "`steam_id`. The closest remaining `acq_time` to `12h00` is `12h41` and the closest \n",
    "remaining `acq_time` to `15h00` is `14h41` (and not `15h41`)."
   ]
  },
  {
   "cell_type": "code",
   "execution_count": null,
   "metadata": {},
   "outputs": [],
   "source": [
    "pd.date_range(start=\"2024-04-12 12:00\", end=\"2024-04-12 17:00\", freq=\"3h\", tz=\"utc\")"
   ]
  },
  {
   "cell_type": "markdown",
   "metadata": {},
   "source": [
    "Instead of performing both the time-span selection and resampling in one operation, we\n",
    "could perform it in 2 operations. By doing so, the resampling will base it's `start` and\n",
    "`end` arguments on the absolute `min()` and `max()` acquisition time."
   ]
  },
  {
   "cell_type": "code",
   "execution_count": null,
   "metadata": {},
   "outputs": [],
   "source": [
    "df = select_datetimes(df, start=\"2024-04-12 12:00\", end=\"2024-04-12 17:00\", freq=None)\n",
    "df = select_datetimes(df, start=None, end=None, freq=\"3h\")"
   ]
  },
  {
   "cell_type": "code",
   "execution_count": null,
   "metadata": {},
   "outputs": [],
   "source": [
    "df"
   ]
  },
  {
   "cell_type": "markdown",
   "metadata": {},
   "source": [
    "This time, we do get a selection of `12h41` and `15h41`."
   ]
  },
  {
   "cell_type": "markdown",
   "metadata": {},
   "source": [
    "## Plot the dataframe\n",
    "\n",
    "Enter the beauty of [seaborn](https://seaborn.pydata.org/), a very high-level plotting\n",
    "library in python. Give it what type of plot, what X-axis, what Y-axis and what category\n",
    "grouping it should do, and it will handle the rest.\n",
    "\n",
    "The function `make_plot_prettier` is used to improve the render of labels and ticks on \n",
    "the created axis.\n",
    "\n",
    "For starting, let's reload the entire dataset to remove all the selection we did before."
   ]
  },
  {
   "cell_type": "code",
   "execution_count": null,
   "metadata": {},
   "outputs": [],
   "source": [
    "df = pd.read_csv(fname, index_col=0, dtype=DF_DTYPES, parse_dates=[\"acq_time\"])\n",
    "df = prepare_dataframe(df, dict())  # to map the game names"
   ]
  },
  {
   "cell_type": "code",
   "execution_count": null,
   "metadata": {},
   "outputs": [],
   "source": [
    "df"
   ]
  },
  {
   "cell_type": "markdown",
   "metadata": {},
   "source": [
    "Let's start with barplot to compare the participants `game_time` in function of the\n",
    "dates, per game."
   ]
  },
  {
   "cell_type": "code",
   "execution_count": null,
   "metadata": {},
   "outputs": [],
   "source": [
    "grid = sns.catplot(\n",
    "    df, kind=\"bar\", x=\"acq_time\", y=\"game_time\", col=\"game_id\", errorbar=None\n",
    ")\n",
    "make_plot_prettier(grid)"
   ]
  },
  {
   "cell_type": "markdown",
   "metadata": {},
   "source": [
    "Or maybe you also want to split by steam ID."
   ]
  },
  {
   "cell_type": "code",
   "execution_count": null,
   "metadata": {},
   "outputs": [],
   "source": [
    "grid = sns.catplot(\n",
    "    df,\n",
    "    kind=\"bar\",\n",
    "    x=\"acq_time\",\n",
    "    y=\"game_time\",\n",
    "    col=\"game_id\",\n",
    "    hue=\"steam_id\",\n",
    "    errorbar=None,\n",
    ")\n",
    "make_plot_prettier(grid)"
   ]
  },
  {
   "cell_type": "markdown",
   "metadata": {},
   "source": [
    "Or maybe line plots of the total gametime per game in function of datetimes."
   ]
  },
  {
   "cell_type": "code",
   "execution_count": null,
   "metadata": {},
   "outputs": [],
   "source": [
    "ax = sns.lineplot(df, x=\"acq_time\", y=\"game_time\", hue=\"game_id\")\n",
    "make_plot_prettier(ax)"
   ]
  },
  {
   "cell_type": "markdown",
   "metadata": {},
   "source": [
    "Or a line plot per participant to represent an information similar to the category plot\n",
    "above."
   ]
  },
  {
   "cell_type": "code",
   "execution_count": null,
   "metadata": {},
   "outputs": [],
   "source": [
    "ax = sns.lineplot(df, x=\"acq_time\", y=\"game_time\", hue=\"steam_id\")\n",
    "make_plot_prettier(ax)"
   ]
  },
  {
   "cell_type": "markdown",
   "metadata": {},
   "source": [
    "Or a line plot separating both participant and games:"
   ]
  },
  {
   "cell_type": "code",
   "execution_count": null,
   "metadata": {},
   "outputs": [],
   "source": [
    "ax = sns.lineplot(df, x=\"acq_time\", y=\"game_time\", hue=\"steam_id\", style=\"game_id\")\n",
    "make_plot_prettier(ax)"
   ]
  },
  {
   "cell_type": "markdown",
   "metadata": {},
   "source": [
    "Or splitting those between 2 plots to separate per `game_id`:"
   ]
  },
  {
   "cell_type": "code",
   "execution_count": null,
   "metadata": {},
   "outputs": [],
   "source": [
    "ax = sns.relplot(\n",
    "    df, x=\"acq_time\", y=\"game_time\", hue=\"steam_id\", col=\"game_id\", kind=\"line\"\n",
    ")\n",
    "make_plot_prettier(ax)"
   ]
  },
  {
   "cell_type": "markdown",
   "metadata": {},
   "source": [
    "Or splitting per `steam_id`:"
   ]
  },
  {
   "cell_type": "code",
   "execution_count": null,
   "metadata": {},
   "outputs": [],
   "source": [
    "ax = sns.relplot(\n",
    "    df,\n",
    "    x=\"acq_time\",\n",
    "    y=\"game_time\",\n",
    "    hue=\"game_id\",\n",
    "    col=\"steam_id\",\n",
    "    kind=\"line\",\n",
    "    col_wrap=5,\n",
    ")\n",
    "make_plot_prettier(ax)"
   ]
  },
  {
   "cell_type": "markdown",
   "metadata": {},
   "source": [
    "Or as a heatmap to plot the `game_time_diff` per participant in function of time."
   ]
  },
  {
   "cell_type": "code",
   "execution_count": null,
   "metadata": {},
   "outputs": [],
   "source": [
    "pivot_df = df.pivot_table(index=\"steam_id\", columns=\"acq_time\", values=\"game_time_diff\")\n",
    "ax = sns.heatmap(pivot_df)\n",
    "make_plot_prettier(ax)"
   ]
  }
 ],
 "metadata": {
  "kernelspec": {
   "display_name": ".venv",
   "language": "python",
   "name": "python3"
  },
  "language_info": {
   "codemirror_mode": {
    "name": "ipython",
    "version": 3
   },
   "file_extension": ".py",
   "mimetype": "text/x-python",
   "name": "python",
   "nbconvert_exporter": "python",
   "pygments_lexer": "ipython3",
   "version": "3.11.9"
  }
 },
 "nbformat": 4,
 "nbformat_minor": 2
}
